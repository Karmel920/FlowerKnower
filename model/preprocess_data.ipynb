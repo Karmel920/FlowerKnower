{
 "cells": [
  {
   "cell_type": "code",
   "execution_count": 1,
   "id": "755f2588-8493-47a3-8643-9d11d24868ef",
   "metadata": {},
   "outputs": [],
   "source": [
    "import tensorflow as tf\n",
    "import os\n",
    "import cv2\n",
    "import imghdr\n",
    "import splitfolders"
   ]
  },
  {
   "cell_type": "code",
   "execution_count": 2,
   "id": "62657ee5-8b99-45ee-a567-fc5804bce596",
   "metadata": {},
   "outputs": [],
   "source": [
    "data_dir = 'data/data_small/original_data'"
   ]
  },
  {
   "cell_type": "code",
   "execution_count": 3,
   "id": "611b842d-8765-4c5a-af7e-d01676b4d31f",
   "metadata": {},
   "outputs": [],
   "source": [
    "image_exts = ['jpeg','jpg', 'bmp', 'png']"
   ]
  },
  {
   "cell_type": "code",
   "execution_count": 4,
   "id": "9e8b854d-de45-4666-9e28-78caf3956f08",
   "metadata": {
    "scrolled": true,
    "tags": []
   },
   "outputs": [],
   "source": [
    "for image_class in os.listdir(data_dir): \n",
    "    for image in os.listdir(os.path.join(data_dir, image_class)):\n",
    "        image_path = os.path.join(data_dir, image_class, image)\n",
    "        try: \n",
    "            img = cv2.imread(image_path)\n",
    "            tip = imghdr.what(image_path)\n",
    "            if tip not in image_exts: \n",
    "                print('Image not in ext list {}'.format(image_path))\n",
    "                os.remove(image_path)\n",
    "            elif os.path.getsize(image_path) < 9216:\n",
    "                print('Image too small {}'.format(image_path))\n",
    "                os.remove(image_path)\n",
    "        except Exception as e: \n",
    "            print('Issue with image {}'.format(image_path))\n",
    "            # os.remove(image_path)"
   ]
  },
  {
   "cell_type": "code",
   "execution_count": 7,
   "id": "ed63f140-88af-4886-9095-87edde737206",
   "metadata": {},
   "outputs": [],
   "source": [
    "input_folder = \"data/data_small/original_data\"\n",
    "output_folder = \"data/data_small/split_data_20species\"\n",
    "splitfolders.ratio(input_folder, output_folder, seed=42, ratio=(0.8, 0.15, 0.05), group_prefix=None)"
   ]
  },
  {
   "cell_type": "code",
   "execution_count": null,
   "id": "a9f062a6-8f5a-46e0-a60a-ff5010c81508",
   "metadata": {},
   "outputs": [],
   "source": []
  }
 ],
 "metadata": {
  "kernelspec": {
   "display_name": "flowersclass",
   "language": "python",
   "name": "flowersclass"
  },
  "language_info": {
   "codemirror_mode": {
    "name": "ipython",
    "version": 3
   },
   "file_extension": ".py",
   "mimetype": "text/x-python",
   "name": "python",
   "nbconvert_exporter": "python",
   "pygments_lexer": "ipython3",
   "version": "3.9.13"
  }
 },
 "nbformat": 4,
 "nbformat_minor": 5
}
