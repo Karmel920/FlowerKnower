{
 "cells": [
  {
   "cell_type": "code",
   "execution_count": 31,
   "id": "a82cb0e1-8064-4c3d-8b89-8f84ef6b7178",
   "metadata": {},
   "outputs": [],
   "source": [
    "import numpy as np\n",
    "import tensorflow as tf\n",
    "import matplotlib.pyplot as plt\n",
    "from keras.preprocessing.image import ImageDataGenerator\n",
    "import cv2\n",
    "import os\n",
    "import imghdr"
   ]
  },
  {
   "cell_type": "markdown",
   "id": "3568a1d0-6d32-474a-acd1-882119db1040",
   "metadata": {},
   "source": [
    "## Prepare data"
   ]
  },
  {
   "cell_type": "code",
   "execution_count": 3,
   "id": "697581ed-0a0c-49a8-accf-f0dc411185cb",
   "metadata": {},
   "outputs": [],
   "source": [
    "# Already divided data into train, val, test sets\n",
    "train_dir = 'data/train'\n",
    "val_dir = 'data/validate'\n",
    "test_dir =  'data/test'"
   ]
  },
  {
   "cell_type": "code",
   "execution_count": 32,
   "id": "ee5945fb-b473-4343-bb51-3bd5648c6fe7",
   "metadata": {},
   "outputs": [],
   "source": [
    "train_dir = 'data/data_small/split_data_20species/train'\n",
    "val_dir = 'data/data_small/split_data_20species/val'\n",
    "test_dir =  'data/data_small/split_data_20species/test'"
   ]
  },
  {
   "cell_type": "code",
   "execution_count": 33,
   "id": "3bf5ed08-a6fb-4f72-8646-f935d4ebf994",
   "metadata": {},
   "outputs": [
    {
     "name": "stdout",
     "output_type": "stream",
     "text": [
      "Found 2882 images belonging to 20 classes.\n",
      "Found 531 images belonging to 20 classes.\n"
     ]
    }
   ],
   "source": [
    "train_datagen = ImageDataGenerator(\n",
    "                    rescale=1./255,\n",
    "                    shear_range=0.2,\n",
    "                    zoom_range=0.2,\n",
    "                    horizontal_flip=True)\n",
    "train_set = train_datagen.flow_from_directory(\n",
    "                                train_dir, \n",
    "                                target_size=(224, 224), \n",
    "                                batch_size=32, \n",
    "                                class_mode='categorical')\n",
    "\n",
    "val_datagen = ImageDataGenerator(rescale=1./255)\n",
    "val_set = val_datagen.flow_from_directory(\n",
    "                            val_dir,\n",
    "                            target_size=(224, 224),\n",
    "                            batch_size=32,\n",
    "                            class_mode='categorical')"
   ]
  },
  {
   "cell_type": "markdown",
   "id": "21a84a66-ae5b-41fe-9514-63acfc4af6a9",
   "metadata": {},
   "source": [
    "## Build deep learning model"
   ]
  },
  {
   "cell_type": "code",
   "execution_count": 34,
   "id": "77e82c4f-dfe8-461d-b0fd-6d842af88b88",
   "metadata": {},
   "outputs": [],
   "source": [
    "from tensorflow.keras.models import Sequential\n",
    "from tensorflow.keras.layers import Conv2D, MaxPool2D, Dense, Flatten, Dropout"
   ]
  },
  {
   "cell_type": "code",
   "execution_count": 35,
   "id": "7f902bdd-4d1c-4316-9f88-7d656096205f",
   "metadata": {},
   "outputs": [],
   "source": [
    "model = Sequential()"
   ]
  },
  {
   "cell_type": "code",
   "execution_count": 36,
   "id": "b222e4df-76d8-45cd-9bf7-5af0ee173b84",
   "metadata": {},
   "outputs": [],
   "source": [
    "model.add(Conv2D(filters=32, kernel_size=(3, 3), padding='Same', activation='relu', input_shape=(224, 224, 3)))\n",
    "model.add(MaxPool2D(pool_size=(2, 2), strides=(2, 2)))\n",
    "\n",
    "model.add(Conv2D(filters=64, kernel_size=(3, 3), padding='Same', activation='relu'))\n",
    "model.add(MaxPool2D(pool_size=(2, 2), strides=(2, 2)))\n",
    "model.add(Dropout(0.5))\n",
    "\n",
    "model.add(Conv2D(filters=96, kernel_size=(3, 3), padding='Same', activation='relu'))\n",
    "model.add(MaxPool2D(pool_size=(2, 2), strides=(2, 2)))\n",
    "model.add(Dropout(0.5))\n",
    "\n",
    "model.add(Conv2D(filters=96, kernel_size=(3, 3), padding='Same', activation='relu'))\n",
    "model.add(MaxPool2D(pool_size=(2, 2), strides=(2, 2)))\n",
    "model.add(Dropout(0.5))\n",
    "\n",
    "model.add(Flatten())\n",
    "\n",
    "model.add(Dense(units=512, activation='relu'))\n",
    "model.add(Dense(units=20, activation='softmax'))"
   ]
  },
  {
   "cell_type": "code",
   "execution_count": 37,
   "id": "a8255a0a-e108-4372-9b7e-a0267489cac8",
   "metadata": {},
   "outputs": [],
   "source": [
    "model.compile(optimizer='rmsprop', loss='categorical_crossentropy', metrics=['accuracy'])"
   ]
  },
  {
   "cell_type": "code",
   "execution_count": 38,
   "id": "16a3be0c-4fe0-4388-96a5-258a8a245116",
   "metadata": {},
   "outputs": [
    {
     "name": "stdout",
     "output_type": "stream",
     "text": [
      "Model: \"sequential_2\"\n",
      "_________________________________________________________________\n",
      " Layer (type)                Output Shape              Param #   \n",
      "=================================================================\n",
      " conv2d_8 (Conv2D)           (None, 224, 224, 32)      896       \n",
      "                                                                 \n",
      " max_pooling2d_8 (MaxPooling  (None, 112, 112, 32)     0         \n",
      " 2D)                                                             \n",
      "                                                                 \n",
      " conv2d_9 (Conv2D)           (None, 112, 112, 64)      18496     \n",
      "                                                                 \n",
      " max_pooling2d_9 (MaxPooling  (None, 56, 56, 64)       0         \n",
      " 2D)                                                             \n",
      "                                                                 \n",
      " dropout_6 (Dropout)         (None, 56, 56, 64)        0         \n",
      "                                                                 \n",
      " conv2d_10 (Conv2D)          (None, 56, 56, 96)        55392     \n",
      "                                                                 \n",
      " max_pooling2d_10 (MaxPoolin  (None, 28, 28, 96)       0         \n",
      " g2D)                                                            \n",
      "                                                                 \n",
      " dropout_7 (Dropout)         (None, 28, 28, 96)        0         \n",
      "                                                                 \n",
      " conv2d_11 (Conv2D)          (None, 28, 28, 96)        83040     \n",
      "                                                                 \n",
      " max_pooling2d_11 (MaxPoolin  (None, 14, 14, 96)       0         \n",
      " g2D)                                                            \n",
      "                                                                 \n",
      " dropout_8 (Dropout)         (None, 14, 14, 96)        0         \n",
      "                                                                 \n",
      " flatten_2 (Flatten)         (None, 18816)             0         \n",
      "                                                                 \n",
      " dense_4 (Dense)             (None, 512)               9634304   \n",
      "                                                                 \n",
      " dense_5 (Dense)             (None, 20)                10260     \n",
      "                                                                 \n",
      "=================================================================\n",
      "Total params: 9,802,388\n",
      "Trainable params: 9,802,388\n",
      "Non-trainable params: 0\n",
      "_________________________________________________________________\n"
     ]
    }
   ],
   "source": [
    "model.summary()"
   ]
  },
  {
   "cell_type": "markdown",
   "id": "31392a7e-4fdb-4d35-a5c0-f79bee1bc7e5",
   "metadata": {},
   "source": [
    "## Train"
   ]
  },
  {
   "cell_type": "code",
   "execution_count": 39,
   "id": "cc171fca-52a3-4b48-bdbb-65671ff3e2c4",
   "metadata": {},
   "outputs": [],
   "source": [
    "logdir='logs_data_small_20species'"
   ]
  },
  {
   "cell_type": "code",
   "execution_count": 40,
   "id": "701dad33-51ce-458f-b199-c109dcfc417b",
   "metadata": {},
   "outputs": [],
   "source": [
    "tensorboard_callback = tf.keras.callbacks.TensorBoard(log_dir=logdir)"
   ]
  },
  {
   "cell_type": "code",
   "execution_count": 41,
   "id": "ba8a7ac4-764e-4893-b446-84eea8ffd63f",
   "metadata": {},
   "outputs": [
    {
     "name": "stdout",
     "output_type": "stream",
     "text": [
      "Epoch 1/25\n",
      "91/91 [==============================] - 197s 2s/step - loss: 2.8445 - accuracy: 0.1298 - val_loss: 2.7132 - val_accuracy: 0.1356\n",
      "Epoch 2/25\n",
      "91/91 [==============================] - 194s 2s/step - loss: 2.3625 - accuracy: 0.2422 - val_loss: 2.2274 - val_accuracy: 0.2392\n",
      "Epoch 3/25\n",
      "91/91 [==============================] - 220s 2s/step - loss: 2.0186 - accuracy: 0.3598 - val_loss: 2.0023 - val_accuracy: 0.3070\n",
      "Epoch 4/25\n",
      "91/91 [==============================] - 178s 2s/step - loss: 1.8275 - accuracy: 0.4205 - val_loss: 1.8952 - val_accuracy: 0.3766\n",
      "Epoch 5/25\n",
      "91/91 [==============================] - 172s 2s/step - loss: 1.6861 - accuracy: 0.4722 - val_loss: 1.6472 - val_accuracy: 0.4746\n",
      "Epoch 6/25\n",
      "91/91 [==============================] - 182s 2s/step - loss: 1.5511 - accuracy: 0.4986 - val_loss: 1.5257 - val_accuracy: 0.4878\n",
      "Epoch 7/25\n",
      "91/91 [==============================] - 194s 2s/step - loss: 1.4570 - accuracy: 0.5350 - val_loss: 1.5778 - val_accuracy: 0.4840\n",
      "Epoch 8/25\n",
      "91/91 [==============================] - 186s 2s/step - loss: 1.3942 - accuracy: 0.5524 - val_loss: 1.5756 - val_accuracy: 0.5217\n",
      "Epoch 9/25\n",
      "91/91 [==============================] - 173s 2s/step - loss: 1.2917 - accuracy: 0.5892 - val_loss: 1.4740 - val_accuracy: 0.5217\n",
      "Epoch 10/25\n",
      "91/91 [==============================] - 173s 2s/step - loss: 1.2150 - accuracy: 0.6110 - val_loss: 1.3015 - val_accuracy: 0.5895\n",
      "Epoch 11/25\n",
      "91/91 [==============================] - 172s 2s/step - loss: 1.1478 - accuracy: 0.6346 - val_loss: 1.5762 - val_accuracy: 0.5009\n",
      "Epoch 12/25\n",
      "91/91 [==============================] - 172s 2s/step - loss: 1.0849 - accuracy: 0.6523 - val_loss: 1.2394 - val_accuracy: 0.5989\n",
      "Epoch 13/25\n",
      "91/91 [==============================] - 177s 2s/step - loss: 0.9873 - accuracy: 0.6693 - val_loss: 1.3189 - val_accuracy: 0.5970\n",
      "Epoch 14/25\n",
      "91/91 [==============================] - 172s 2s/step - loss: 0.9011 - accuracy: 0.7148 - val_loss: 1.2873 - val_accuracy: 0.5951\n",
      "Epoch 15/25\n",
      "91/91 [==============================] - 183s 2s/step - loss: 0.8523 - accuracy: 0.7269 - val_loss: 1.3134 - val_accuracy: 0.6196\n",
      "Epoch 16/25\n",
      "91/91 [==============================] - 181s 2s/step - loss: 0.7943 - accuracy: 0.7425 - val_loss: 1.4416 - val_accuracy: 0.5763\n",
      "Epoch 17/25\n",
      "91/91 [==============================] - 179s 2s/step - loss: 0.7511 - accuracy: 0.7575 - val_loss: 1.2450 - val_accuracy: 0.6384\n",
      "Epoch 18/25\n",
      "91/91 [==============================] - 171s 2s/step - loss: 0.6737 - accuracy: 0.7720 - val_loss: 1.3485 - val_accuracy: 0.6064\n",
      "Epoch 19/25\n",
      "91/91 [==============================] - 172s 2s/step - loss: 0.6509 - accuracy: 0.7824 - val_loss: 1.2372 - val_accuracy: 0.6460\n",
      "Epoch 20/25\n",
      "91/91 [==============================] - 172s 2s/step - loss: 0.5983 - accuracy: 0.8078 - val_loss: 1.1880 - val_accuracy: 0.6573\n",
      "Epoch 21/25\n",
      "91/91 [==============================] - 171s 2s/step - loss: 0.5376 - accuracy: 0.8192 - val_loss: 1.5228 - val_accuracy: 0.5838\n",
      "Epoch 22/25\n",
      "91/91 [==============================] - 173s 2s/step - loss: 0.5245 - accuracy: 0.8324 - val_loss: 1.4165 - val_accuracy: 0.6365\n",
      "Epoch 23/25\n",
      "91/91 [==============================] - 172s 2s/step - loss: 0.4926 - accuracy: 0.8373 - val_loss: 1.4492 - val_accuracy: 0.6384\n",
      "Epoch 24/25\n",
      "91/91 [==============================] - 172s 2s/step - loss: 0.4705 - accuracy: 0.8536 - val_loss: 1.4618 - val_accuracy: 0.6497\n",
      "Epoch 25/25\n",
      "91/91 [==============================] - 173s 2s/step - loss: 0.4070 - accuracy: 0.8650 - val_loss: 1.4595 - val_accuracy: 0.6573\n"
     ]
    }
   ],
   "source": [
    "hist = model.fit(x=train_set, epochs=25, batch_size=32, validation_data=val_set, callbacks=[tensorboard_callback])"
   ]
  },
  {
   "cell_type": "markdown",
   "id": "22478af3-75e7-4408-a1b0-d0d4f793466c",
   "metadata": {},
   "source": [
    "## Plot performance"
   ]
  },
  {
   "cell_type": "code",
   "execution_count": 42,
   "id": "1e58ef8b-7bb4-4d63-9478-8244ed0791fa",
   "metadata": {},
   "outputs": [
    {
     "data": {
      "image/png": "[encoded data removed]",
      "text/plain": [
       "<Figure size 640x480 with 1 Axes>"
      ]
     },
     "metadata": {},
     "output_type": "display_data"
    }
   ],
   "source": [
    "fig = plt.figure()\n",
    "plt.plot(hist.history['loss'], color='teal', label='loss')\n",
    "plt.plot(hist.history['val_loss'], color='orange', label='val_loss')\n",
    "fig.suptitle('Loss', fontsize=20)\n",
    "plt.legend(loc=\"upper left\")\n",
    "plt.show()"
   ]
  },
  {
   "cell_type": "code",
   "execution_count": 43,
   "id": "6551c09d-4d25-4ec0-bfef-079978c37917",
   "metadata": {},
   "outputs": [
    {
     "data": {
      "image/png": "[encoded data removed]",
      "text/plain": [
       "<Figure size 640x480 with 1 Axes>"
      ]
     },
     "metadata": {},
     "output_type": "display_data"
    }
   ],
   "source": [
    "fig = plt.figure()\n",
    "plt.plot(hist.history['accuracy'], color='teal', label='accuracy')\n",
    "plt.plot(hist.history['val_accuracy'], color='orange', label='val_accuracy')\n",
    "fig.suptitle('Accuracy', fontsize=20)\n",
    "plt.legend(loc=\"upper left\")\n",
    "plt.show()"
   ]
  },
  {
   "cell_type": "markdown",
   "id": "ef8f00cd-6555-4216-8ae0-315f248b92d7",
   "metadata": {},
   "source": [
    "## Evaluate"
   ]
  },
  {
   "cell_type": "code",
   "execution_count": 27,
   "id": "d1611340-bef1-4029-a3e7-d326a93e1148",
   "metadata": {},
   "outputs": [],
   "source": [
    "from tensorflow.keras.metrics import Precision, Recall, BinaryAccuracy"
   ]
  },
  {
   "cell_type": "code",
   "execution_count": 28,
   "id": "e366e3d0-ffb2-4c24-8173-de63f56ba9cc",
   "metadata": {},
   "outputs": [],
   "source": [
    "pre = Precision()\n",
    "re = Recall()\n",
    "acc = BinaryAccuracy()"
   ]
  },
  {
   "cell_type": "code",
   "execution_count": null,
   "id": "8380b9dd-b9d4-4da2-9d50-1587cb6367c9",
   "metadata": {},
   "outputs": [],
   "source": [
    "# test_datagen = ImageDataGenerator(rescale=1./255)\n",
    "# test_set = test_datagen.flow_from_directory(\n",
    "#                             test_dir,\n",
    "#                             target_size=(224, 224),\n",
    "#                             batch_size=32,\n",
    "#                             class_mode='categorical')"
   ]
  },
  {
   "cell_type": "code",
   "execution_count": 29,
   "id": "5467354d-d006-4499-98a6-d7540037d16f",
   "metadata": {},
   "outputs": [
    {
     "ename": "AttributeError",
     "evalue": "'str' object has no attribute 'as_numpy_iterator'",
     "output_type": "error",
     "traceback": [
      "\u001b[1;31m---------------------------------------------------------------------------\u001b[0m",
      "\u001b[1;31mAttributeError\u001b[0m                            Traceback (most recent call last)",
      "Cell \u001b[1;32mIn[29], line 1\u001b[0m\n\u001b[1;32m----> 1\u001b[0m \u001b[38;5;28;01mfor\u001b[39;00m batch \u001b[38;5;129;01min\u001b[39;00m \u001b[43mtest_dir\u001b[49m\u001b[38;5;241;43m.\u001b[39;49m\u001b[43mas_numpy_iterator\u001b[49m(): \n\u001b[0;32m      2\u001b[0m     X, y \u001b[38;5;241m=\u001b[39m batch\n\u001b[0;32m      3\u001b[0m     yhat \u001b[38;5;241m=\u001b[39m model\u001b[38;5;241m.\u001b[39mpredict(X)\n",
      "\u001b[1;31mAttributeError\u001b[0m: 'str' object has no attribute 'as_numpy_iterator'"
     ]
    }
   ],
   "source": [
    "for batch in test_dir.as_numpy_iterator(): \n",
    "    X, y = batch\n",
    "    yhat = model.predict(X)\n",
    "    pre.update_state(y, yhat)\n",
    "    re.update_state(y, yhat)\n",
    "    acc.update_state(y, yhat)"
   ]
  },
  {
   "cell_type": "code",
   "execution_count": 28,
   "id": "d342675b-b084-4570-8b1f-75b385beaa35",
   "metadata": {},
   "outputs": [
    {
     "name": "stdout",
     "output_type": "stream",
     "text": [
      "Precision: 0.0, Recall: 0.0, Accuracy: 0.0\n"
     ]
    }
   ],
   "source": [
    "print(f'Precision: {pre.result().numpy()}, Recall: {re.result().numpy()}, Accuracy: {acc.result().numpy()}')"
   ]
  },
  {
   "cell_type": "markdown",
   "id": "3f6b45e8-f73f-4268-afd3-484033fe5d68",
   "metadata": {},
   "source": [
    "## Save model"
   ]
  },
  {
   "cell_type": "code",
   "execution_count": 44,
   "id": "247276ee-0ce5-469e-aa11-cf172a944c97",
   "metadata": {},
   "outputs": [],
   "source": [
    "model.save('models/flowers_20_small_data.h5')"
   ]
  },
  {
   "cell_type": "code",
   "execution_count": null,
   "id": "53040d59-f194-4529-b318-7eab0abc86c3",
   "metadata": {},
   "outputs": [],
   "source": []
  }
 ],
 "metadata": {
  "kernelspec": {
   "display_name": "flowersclass",
   "language": "python",
   "name": "flowersclass"
  },
  "language_info": {
   "codemirror_mode": {
    "name": "ipython",
    "version": 3
   },
   "file_extension": ".py",
   "mimetype": "text/x-python",
   "name": "python",
   "nbconvert_exporter": "python",
   "pygments_lexer": "ipython3",
   "version": "3.9.13"
  }
 },
 "nbformat": 4,
 "nbformat_minor": 5
}
